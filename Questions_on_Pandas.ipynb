{
  "nbformat": 4,
  "nbformat_minor": 0,
  "metadata": {
    "colab": {
      "name": "Questions on Pandas.ipynb",
      "provenance": [],
      "collapsed_sections": [],
      "authorship_tag": "ABX9TyOtmfx1+WEyn41ryqAcpevG",
      "include_colab_link": true
    },
    "kernelspec": {
      "name": "python3",
      "display_name": "Python 3"
    }
  },
  "cells": [
    {
      "cell_type": "markdown",
      "metadata": {
        "id": "view-in-github",
        "colab_type": "text"
      },
      "source": [
        "<a href=\"https://colab.research.google.com/github/Shambhavi-Gupta/Pandas_Questions/blob/master/Questions_on_Pandas.ipynb\" target=\"_parent\"><img src=\"https://colab.research.google.com/assets/colab-badge.svg\" alt=\"Open In Colab\"/></a>"
      ]
    },
    {
      "cell_type": "code",
      "metadata": {
        "id": "EtJ_asBqNAxv",
        "colab_type": "code",
        "colab": {
          "base_uri": "https://localhost:8080/",
          "height": 34
        },
        "outputId": "1f10a1c9-df67-4c92-a426-4468471c76a3"
      },
      "source": [
        "import pandas as pd\n",
        "s = pd.Series(\"a\", index=[1, 2, 3, 4])\n",
        "print(s.loc[2])"
      ],
      "execution_count": null,
      "outputs": [
        {
          "output_type": "stream",
          "text": [
            "a\n"
          ],
          "name": "stdout"
        }
      ]
    },
    {
      "cell_type": "code",
      "metadata": {
        "id": "7xRasrKoNLkX",
        "colab_type": "code",
        "colab": {}
      },
      "source": [
        "data = set([2,1,4,3])\n",
        "s = pd.Series( data , index=[1,2,3,4])\n",
        "print(s.loc[2])"
      ],
      "execution_count": null,
      "outputs": []
    },
    {
      "cell_type": "code",
      "metadata": {
        "id": "LRi8VyW8NVbA",
        "colab_type": "code",
        "colab": {
          "base_uri": "https://localhost:8080/",
          "height": 34
        },
        "outputId": "0c98c3fe-1fb9-41e9-f961-558cd8a060a9"
      },
      "source": [
        "data = [1, 2, 3, 4]\n",
        "s = pd.Series( data , index=[1,2,3,4])\n",
        "b = (s > 2).any()\n",
        "print(b)\n"
      ],
      "execution_count": null,
      "outputs": [
        {
          "output_type": "stream",
          "text": [
            "True\n"
          ],
          "name": "stdout"
        }
      ]
    },
    {
      "cell_type": "code",
      "metadata": {
        "id": "Ypxn8CkLNlY7",
        "colab_type": "code",
        "colab": {
          "base_uri": "https://localhost:8080/",
          "height": 34
        },
        "outputId": "a755db2e-b575-44e6-ec04-d2ce06498c82"
      },
      "source": [
        "data = [0, 1, 1, 2, 3, 5, 8, 13, 21]\n",
        "s = pd.Series( data )\n",
        "b = s.diff()\n",
        "print(b.iloc[5])"
      ],
      "execution_count": null,
      "outputs": [
        {
          "output_type": "stream",
          "text": [
            "2.0\n"
          ],
          "name": "stdout"
        }
      ]
    },
    {
      "cell_type": "code",
      "metadata": {
        "id": "VAH52ZA5NrHB",
        "colab_type": "code",
        "colab": {
          "base_uri": "https://localhost:8080/",
          "height": 34
        },
        "outputId": "65b3a479-440e-47f4-f972-f0d318984f9b"
      },
      "source": [
        "data = [3,2,2,1]\n",
        "s = pd.Series( data )\n",
        "b = s.mean()\n",
        "print(b)"
      ],
      "execution_count": null,
      "outputs": [
        {
          "output_type": "stream",
          "text": [
            "2.0\n"
          ],
          "name": "stdout"
        }
      ]
    },
    {
      "cell_type": "code",
      "metadata": {
        "id": "UXVDf8ooNwv-",
        "colab_type": "code",
        "colab": {}
      },
      "source": [
        ""
      ],
      "execution_count": null,
      "outputs": []
    }
  ]
}